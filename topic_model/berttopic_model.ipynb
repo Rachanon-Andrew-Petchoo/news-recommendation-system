{
 "cells": [
  {
   "cell_type": "code",
   "execution_count": 1,
   "id": "685e93d9-9e5b-46ab-ba9c-a260e08ff96d",
   "metadata": {},
   "outputs": [],
   "source": [
    "%%capture\n",
    "!pip install bertopic\n",
    "!pip install datasets\n",
    "!pip install openai"
   ]
  },
  {
   "cell_type": "markdown",
   "id": "47fb74a8-57a8-4e49-b2a3-14f07c859181",
   "metadata": {},
   "source": [
    "# Load the Paper dataset"
   ]
  },
  {
   "cell_type": "code",
   "execution_count": 2,
   "id": "d90754be-8dc2-451d-84f7-845aada2d92d",
   "metadata": {},
   "outputs": [],
   "source": [
    "from datasets import load_dataset\n",
    "\n",
    "dataset = load_dataset(\"CShorten/ML-ArXiv-Papers\")[\"train\"]\n",
    "\n",
    "# Extract abstracts to train on and corresponding titles\n",
    "abstracts = dataset[\"abstract\"]\n",
    "titles = dataset[\"title\"]"
   ]
  },
  {
   "cell_type": "markdown",
   "id": "859d44bd-aeb8-4e1c-bda4-9d717c52aaef",
   "metadata": {},
   "source": [
    "### HDBSCAN control the number of topics through the cluster model"
   ]
  },
  {
   "cell_type": "code",
   "execution_count": 3,
   "id": "f02f6745-b1f7-416d-9616-69f823b3d896",
   "metadata": {},
   "outputs": [],
   "source": [
    "from hdbscan import HDBSCAN\n",
    "\n",
    "hdbscan_model = HDBSCAN(min_cluster_size=100, metric='euclidean', cluster_selection_method='eom', prediction_data=True)"
   ]
  },
  {
   "cell_type": "markdown",
   "id": "755af04b-3b7c-46f9-9325-229e03a431f5",
   "metadata": {},
   "source": [
    "### Run the model the comment out are all the options could add to the bertopic"
   ]
  },
  {
   "cell_type": "code",
   "execution_count": 4,
   "id": "05c7d84c-e7ff-43fe-864a-d850b1af0afa",
   "metadata": {},
   "outputs": [
    {
     "name": "stderr",
     "output_type": "stream",
     "text": [
      "2025-04-15 19:40:58,019 - BERTopic - Embedding - Transforming documents to embeddings.\n"
     ]
    },
    {
     "data": {
      "application/vnd.jupyter.widget-view+json": {
       "model_id": "192a86220c0e4919bc7ccc04cbcde893",
       "version_major": 2,
       "version_minor": 0
      },
      "text/plain": [
       "Batches:   0%|          | 0/3656 [00:00<?, ?it/s]"
      ]
     },
     "metadata": {},
     "output_type": "display_data"
    },
    {
     "name": "stderr",
     "output_type": "stream",
     "text": [
      "2025-04-15 19:42:33,471 - BERTopic - Embedding - Completed ✓\n",
      "2025-04-15 19:42:33,472 - BERTopic - Dimensionality - Fitting the dimensionality reduction algorithm\n",
      "2025-04-15 19:47:08,631 - BERTopic - Dimensionality - Completed ✓\n",
      "2025-04-15 19:47:08,635 - BERTopic - Cluster - Start clustering the reduced embeddings\n",
      "huggingface/tokenizers: The current process just got forked, after parallelism has already been used. Disabling parallelism to avoid deadlocks...\n",
      "To disable this warning, you can either:\n",
      "\t- Avoid using `tokenizers` before the fork if possible\n",
      "\t- Explicitly set the environment variable TOKENIZERS_PARALLELISM=(true | false)\n",
      "huggingface/tokenizers: The current process just got forked, after parallelism has already been used. Disabling parallelism to avoid deadlocks...\n",
      "To disable this warning, you can either:\n",
      "\t- Avoid using `tokenizers` before the fork if possible\n",
      "\t- Explicitly set the environment variable TOKENIZERS_PARALLELISM=(true | false)\n",
      "huggingface/tokenizers: The current process just got forked, after parallelism has already been used. Disabling parallelism to avoid deadlocks...\n",
      "To disable this warning, you can either:\n",
      "\t- Avoid using `tokenizers` before the fork if possible\n",
      "\t- Explicitly set the environment variable TOKENIZERS_PARALLELISM=(true | false)\n",
      "huggingface/tokenizers: The current process just got forked, after parallelism has already been used. Disabling parallelism to avoid deadlocks...\n",
      "To disable this warning, you can either:\n",
      "\t- Avoid using `tokenizers` before the fork if possible\n",
      "\t- Explicitly set the environment variable TOKENIZERS_PARALLELISM=(true | false)\n",
      "huggingface/tokenizers: The current process just got forked, after parallelism has already been used. Disabling parallelism to avoid deadlocks...\n",
      "To disable this warning, you can either:\n",
      "\t- Avoid using `tokenizers` before the fork if possible\n",
      "\t- Explicitly set the environment variable TOKENIZERS_PARALLELISM=(true | false)\n",
      "2025-04-15 19:48:24,020 - BERTopic - Cluster - Completed ✓\n",
      "2025-04-15 19:48:24,037 - BERTopic - Representation - Fine-tuning topics using representation models.\n",
      "2025-04-15 19:48:32,547 - BERTopic - Representation - Completed ✓\n"
     ]
    }
   ],
   "source": [
    "from bertopic import BERTopic\n",
    "abstracts = abstracts[300:]\n",
    "topic_model = BERTopic(\n",
    "\n",
    "  # # Pipeline models\n",
    "  # embedding_model=embedding_model,\n",
    "  # umap_model=umap_model,\n",
    "  hdbscan_model=hdbscan_model,\n",
    "  # vectorizer_model=vectorizer_model,\n",
    "  # representation_model=representation_model,\n",
    "  calculate_probabilities=True,\n",
    "\n",
    "  # Hyperparameters\n",
    "  top_n_words=10,\n",
    "  verbose=True\n",
    ")\n",
    "topics, probs = topic_model.fit_transform(abstracts)"
   ]
  },
  {
   "cell_type": "code",
   "execution_count": 7,
   "id": "1b85d637-d7c1-4db3-9b89-0695c69e845f",
   "metadata": {},
   "outputs": [
    {
     "data": {
      "text/plain": [
       "array([0.00196831, 0.00206855, 0.00450759, 0.00381628, 0.00283973,\n",
       "       0.00224487, 0.00287846, 0.00304864, 0.00484699, 0.00222548,\n",
       "       0.00488951, 0.00322324, 0.00351174, 0.00240059, 0.00270235,\n",
       "       0.00234652, 0.00338877, 0.00148895, 0.00304523, 0.00239978,\n",
       "       0.00396434, 0.0022615 , 0.00259373, 0.00798656, 0.0023975 ,\n",
       "       0.00256669, 0.00334759, 0.00290527, 0.00370954, 0.00274368,\n",
       "       0.0020723 , 0.00276964, 0.00560759, 0.00440518, 0.00277987,\n",
       "       0.00302243, 0.00238361, 0.00363097, 0.00253186, 0.00382322,\n",
       "       0.00237475, 0.00343043, 0.00298541, 0.00256968, 0.40938045,\n",
       "       0.00206569, 0.00579228, 0.00262943, 0.00221904, 0.00487611,\n",
       "       0.0033906 , 0.01555394, 0.00231693, 0.00322902, 0.0055321 ,\n",
       "       0.00496293, 0.00241121, 0.00440944, 0.00244957, 0.00238844,\n",
       "       0.00339513, 0.00586865, 0.00608024, 0.00333491, 0.00239148,\n",
       "       0.00385091, 0.00619197, 0.00340019, 0.00353656, 0.00282032,\n",
       "       0.0072855 , 0.00382569, 0.00359348, 0.00281676, 0.0024131 ,\n",
       "       0.00218311, 0.00682   , 0.00225631, 0.00292959, 0.00191743,\n",
       "       0.00221282, 0.00364629, 0.00339199, 0.00290496, 0.00319883,\n",
       "       0.00251433, 0.00218333, 0.00252134, 0.002153  , 0.00772898,\n",
       "       0.00499764, 0.00348037, 0.00203172, 0.0031993 , 0.00822784,\n",
       "       0.00284546, 0.00616014, 0.00206784, 0.00964255, 0.00261069,\n",
       "       0.00262933, 0.00247931, 0.00697452, 0.00365894, 0.00569551,\n",
       "       0.00331953, 0.00409505, 0.00441994, 0.00349764, 0.00819113,\n",
       "       0.01114357, 0.00214764, 0.00252678, 0.00369636, 0.00253162,\n",
       "       0.00346288, 0.00315138, 0.00343744, 0.00757983, 0.00254012,\n",
       "       0.00260916, 0.00209097, 0.00449678, 0.00225345, 0.00207017,\n",
       "       0.00297299, 0.0031544 , 0.0057599 , 0.00772201, 0.00238485,\n",
       "       0.00401471, 0.00306266, 0.00200432, 0.00205603, 0.00298231,\n",
       "       0.00222644, 0.00568952, 0.00239935, 0.00243384, 0.00241907,\n",
       "       0.00227111, 0.00238959, 0.00322491, 0.00298362, 0.00710668,\n",
       "       0.00394543, 0.00220369, 0.0035907 , 0.0028857 , 0.00763506,\n",
       "       0.00591195, 0.00280307, 0.00213123, 0.00334008, 0.00445998,\n",
       "       0.00382708, 0.00229133, 0.00841959])"
      ]
     },
     "execution_count": 7,
     "metadata": {},
     "output_type": "execute_result"
    }
   ],
   "source": [
    "# results\n",
    "probs[0]"
   ]
  },
  {
   "cell_type": "code",
   "execution_count": 14,
   "id": "54b08f52-a6ff-4156-b19d-df80a2b43ea5",
   "metadata": {},
   "outputs": [
    {
     "data": {
      "text/html": [
       "<div>\n",
       "<style scoped>\n",
       "    .dataframe tbody tr th:only-of-type {\n",
       "        vertical-align: middle;\n",
       "    }\n",
       "\n",
       "    .dataframe tbody tr th {\n",
       "        vertical-align: top;\n",
       "    }\n",
       "\n",
       "    .dataframe thead th {\n",
       "        text-align: right;\n",
       "    }\n",
       "</style>\n",
       "<table border=\"1\" class=\"dataframe\">\n",
       "  <thead>\n",
       "    <tr style=\"text-align: right;\">\n",
       "      <th></th>\n",
       "      <th>Topic</th>\n",
       "      <th>Count</th>\n",
       "      <th>Name</th>\n",
       "      <th>Representation</th>\n",
       "      <th>Representative_Docs</th>\n",
       "    </tr>\n",
       "  </thead>\n",
       "  <tbody>\n",
       "    <tr>\n",
       "      <th>0</th>\n",
       "      <td>-1</td>\n",
       "      <td>38202</td>\n",
       "      <td>-1_the_of_and_to</td>\n",
       "      <td>[the, of, and, to, in, we, is, for, that, on]</td>\n",
       "      <td>[  Classification of high dimensional data fin...</td>\n",
       "    </tr>\n",
       "    <tr>\n",
       "      <th>1</th>\n",
       "      <td>0</td>\n",
       "      <td>5665</td>\n",
       "      <td>0_policy_reinforcement_rl_learning</td>\n",
       "      <td>[policy, reinforcement, rl, learning, reward, ...</td>\n",
       "      <td>[  Policy gradient methods are among the most ...</td>\n",
       "    </tr>\n",
       "    <tr>\n",
       "      <th>2</th>\n",
       "      <td>1</td>\n",
       "      <td>3447</td>\n",
       "      <td>1_privacy_federated_fl_private</td>\n",
       "      <td>[privacy, federated, fl, private, clients, dat...</td>\n",
       "      <td>[  Federated learning is a technique that enab...</td>\n",
       "    </tr>\n",
       "    <tr>\n",
       "      <th>3</th>\n",
       "      <td>2</td>\n",
       "      <td>3326</td>\n",
       "      <td>2_3d_object_video_objects</td>\n",
       "      <td>[3d, object, video, objects, segmentation, ima...</td>\n",
       "      <td>[  Our goal in this work is to generate realis...</td>\n",
       "    </tr>\n",
       "    <tr>\n",
       "      <th>4</th>\n",
       "      <td>3</td>\n",
       "      <td>2303</td>\n",
       "      <td>3_graph_node_graphs_gnns</td>\n",
       "      <td>[graph, node, graphs, gnns, nodes, gnn, embedd...</td>\n",
       "      <td>[  Graph neural networks have recently achieve...</td>\n",
       "    </tr>\n",
       "    <tr>\n",
       "      <th>...</th>\n",
       "      <td>...</td>\n",
       "      <td>...</td>\n",
       "      <td>...</td>\n",
       "      <td>...</td>\n",
       "      <td>...</td>\n",
       "    </tr>\n",
       "    <tr>\n",
       "      <th>154</th>\n",
       "      <td>153</td>\n",
       "      <td>110</td>\n",
       "      <td>153_flows_normalizing_density_flow</td>\n",
       "      <td>[flows, normalizing, density, flow, invertible...</td>\n",
       "      <td>[  Normalizing flows have received a great dea...</td>\n",
       "    </tr>\n",
       "    <tr>\n",
       "      <th>155</th>\n",
       "      <td>154</td>\n",
       "      <td>108</td>\n",
       "      <td>154_ai_ethical_systems_ethics</td>\n",
       "      <td>[ai, ethical, systems, ethics, intelligence, a...</td>\n",
       "      <td>[  Recently, the use of sound measures and met...</td>\n",
       "    </tr>\n",
       "    <tr>\n",
       "      <th>156</th>\n",
       "      <td>155</td>\n",
       "      <td>101</td>\n",
       "      <td>155_process_event_logs_business</td>\n",
       "      <td>[process, event, logs, business, mining, log, ...</td>\n",
       "      <td>[  Process Discovery is concerned with the aut...</td>\n",
       "    </tr>\n",
       "    <tr>\n",
       "      <th>157</th>\n",
       "      <td>156</td>\n",
       "      <td>101</td>\n",
       "      <td>156_skin_lesion_melanoma_lesions</td>\n",
       "      <td>[skin, lesion, melanoma, lesions, cancer, imag...</td>\n",
       "      <td>[  Skin cancer is one of the most threatening ...</td>\n",
       "    </tr>\n",
       "    <tr>\n",
       "      <th>158</th>\n",
       "      <td>157</td>\n",
       "      <td>101</td>\n",
       "      <td>157_finetuning_bert_language_pretraining</td>\n",
       "      <td>[finetuning, bert, language, pretraining, pret...</td>\n",
       "      <td>[  Large pretrained language models have been ...</td>\n",
       "    </tr>\n",
       "  </tbody>\n",
       "</table>\n",
       "<p>159 rows × 5 columns</p>\n",
       "</div>"
      ],
      "text/plain": [
       "     Topic  Count                                      Name  \\\n",
       "0       -1  38202                          -1_the_of_and_to   \n",
       "1        0   5665        0_policy_reinforcement_rl_learning   \n",
       "2        1   3447            1_privacy_federated_fl_private   \n",
       "3        2   3326                 2_3d_object_video_objects   \n",
       "4        3   2303                  3_graph_node_graphs_gnns   \n",
       "..     ...    ...                                       ...   \n",
       "154    153    110        153_flows_normalizing_density_flow   \n",
       "155    154    108             154_ai_ethical_systems_ethics   \n",
       "156    155    101           155_process_event_logs_business   \n",
       "157    156    101          156_skin_lesion_melanoma_lesions   \n",
       "158    157    101  157_finetuning_bert_language_pretraining   \n",
       "\n",
       "                                        Representation  \\\n",
       "0        [the, of, and, to, in, we, is, for, that, on]   \n",
       "1    [policy, reinforcement, rl, learning, reward, ...   \n",
       "2    [privacy, federated, fl, private, clients, dat...   \n",
       "3    [3d, object, video, objects, segmentation, ima...   \n",
       "4    [graph, node, graphs, gnns, nodes, gnn, embedd...   \n",
       "..                                                 ...   \n",
       "154  [flows, normalizing, density, flow, invertible...   \n",
       "155  [ai, ethical, systems, ethics, intelligence, a...   \n",
       "156  [process, event, logs, business, mining, log, ...   \n",
       "157  [skin, lesion, melanoma, lesions, cancer, imag...   \n",
       "158  [finetuning, bert, language, pretraining, pret...   \n",
       "\n",
       "                                   Representative_Docs  \n",
       "0    [  Classification of high dimensional data fin...  \n",
       "1    [  Policy gradient methods are among the most ...  \n",
       "2    [  Federated learning is a technique that enab...  \n",
       "3    [  Our goal in this work is to generate realis...  \n",
       "4    [  Graph neural networks have recently achieve...  \n",
       "..                                                 ...  \n",
       "154  [  Normalizing flows have received a great dea...  \n",
       "155  [  Recently, the use of sound measures and met...  \n",
       "156  [  Process Discovery is concerned with the aut...  \n",
       "157  [  Skin cancer is one of the most threatening ...  \n",
       "158  [  Large pretrained language models have been ...  \n",
       "\n",
       "[159 rows x 5 columns]"
      ]
     },
     "execution_count": 14,
     "metadata": {},
     "output_type": "execute_result"
    }
   ],
   "source": [
    "# show the different topics \n",
    "topic_model.get_topic_info()\n",
    "\n",
    "# show the document info\n",
    "#topic_model.get_document_info(abstracts)"
   ]
  },
  {
   "cell_type": "markdown",
   "id": "8610fc75-c802-4772-8eeb-0ff2543db9af",
   "metadata": {},
   "source": [
    "# Mind dataset\n",
    "upload the news.tsv file and filter out all the entries with 150+ words"
   ]
  },
  {
   "cell_type": "code",
   "execution_count": 17,
   "id": "b7fbffa9-a846-4c45-b0a6-8da2b3dc9b62",
   "metadata": {},
   "outputs": [],
   "source": [
    "import csv\n",
    "mind_data = []\n",
    "mind_data_abstract = []\n",
    "with open('news.tsv', 'r', newline='') as file:\n",
    "    reader = csv.reader(file, delimiter='\\t')\n",
    "    for row in reader:\n",
    "        info = row[3]+row[4]\n",
    "        if len(info.split()) >= 150:\n",
    "            mind_data_abstract.append(info)\n",
    "            mind_data.append(row)"
   ]
  },
  {
   "cell_type": "markdown",
   "id": "e791cf37-4b96-4bc2-9542-8cca2818938c",
   "metadata": {},
   "source": [
    "#### use bert model"
   ]
  },
  {
   "cell_type": "code",
   "execution_count": 22,
   "id": "937f545b-3b59-4d0c-82d9-55316e341715",
   "metadata": {},
   "outputs": [],
   "source": [
    "# using bertmodel\n",
    "from bertopic import BERTopic\n",
    "topic_model_mind = BERTopic(calculate_probabilities=True)\n",
    "pred_mind, prob_mind = topic_model_mind.fit_transform(mind_data_abstract)"
   ]
  },
  {
   "cell_type": "code",
   "execution_count": 23,
   "id": "2218ddee-ba6c-446e-a784-fe21f4daf0c9",
   "metadata": {},
   "outputs": [
    {
     "data": {
      "text/plain": [
       "array([3.05514295e-309, 1.00000000e+000])"
      ]
     },
     "execution_count": 23,
     "metadata": {},
     "output_type": "execute_result"
    }
   ],
   "source": [
    "prob_mind[0]"
   ]
  },
  {
   "cell_type": "code",
   "execution_count": 24,
   "id": "413a3dbb-a81d-4dcf-9bb7-2b0ab89d90cc",
   "metadata": {},
   "outputs": [
    {
     "data": {
      "text/html": [
       "<div>\n",
       "<style scoped>\n",
       "    .dataframe tbody tr th:only-of-type {\n",
       "        vertical-align: middle;\n",
       "    }\n",
       "\n",
       "    .dataframe tbody tr th {\n",
       "        vertical-align: top;\n",
       "    }\n",
       "\n",
       "    .dataframe thead th {\n",
       "        text-align: right;\n",
       "    }\n",
       "</style>\n",
       "<table border=\"1\" class=\"dataframe\">\n",
       "  <thead>\n",
       "    <tr style=\"text-align: right;\">\n",
       "      <th></th>\n",
       "      <th>Topic</th>\n",
       "      <th>Count</th>\n",
       "      <th>Name</th>\n",
       "      <th>Representation</th>\n",
       "      <th>Representative_Docs</th>\n",
       "    </tr>\n",
       "  </thead>\n",
       "  <tbody>\n",
       "    <tr>\n",
       "      <th>0</th>\n",
       "      <td>0</td>\n",
       "      <td>92</td>\n",
       "      <td>0_the_of_to_and</td>\n",
       "      <td>[the, of, to, and, in, on, fire, was, were, as]</td>\n",
       "      <td>[Firefighters Battle Gospers Mountain Blaze Ra...</td>\n",
       "    </tr>\n",
       "    <tr>\n",
       "      <th>1</th>\n",
       "      <td>1</td>\n",
       "      <td>41</td>\n",
       "      <td>1_the_to_and_of</td>\n",
       "      <td>[the, to, and, of, in, that, was, for, with, her]</td>\n",
       "      <td>[Sex, Drugs and Ashton Kutcher: 10 Revelations...</td>\n",
       "    </tr>\n",
       "  </tbody>\n",
       "</table>\n",
       "</div>"
      ],
      "text/plain": [
       "   Topic  Count             Name  \\\n",
       "0      0     92  0_the_of_to_and   \n",
       "1      1     41  1_the_to_and_of   \n",
       "\n",
       "                                      Representation  \\\n",
       "0    [the, of, to, and, in, on, fire, was, were, as]   \n",
       "1  [the, to, and, of, in, that, was, for, with, her]   \n",
       "\n",
       "                                 Representative_Docs  \n",
       "0  [Firefighters Battle Gospers Mountain Blaze Ra...  \n",
       "1  [Sex, Drugs and Ashton Kutcher: 10 Revelations...  "
      ]
     },
     "execution_count": 24,
     "metadata": {},
     "output_type": "execute_result"
    }
   ],
   "source": [
    "topic_model_mind.get_topic_info()"
   ]
  },
  {
   "cell_type": "markdown",
   "id": "0b82aa57-f4d8-4be6-99c0-e30f2e55cb3b",
   "metadata": {},
   "source": [
    "#### use openai model"
   ]
  },
  {
   "cell_type": "code",
   "execution_count": 26,
   "id": "8922cda1-f6be-4972-b3c3-eb9e28cdda00",
   "metadata": {},
   "outputs": [],
   "source": [
    "import openai\n",
    "from bertopic.representation import OpenAI\n",
    "\n",
    "# Fine-tune topic representations with GPT\n",
    "# client = openai.OpenAI(api_key=\"sk-...\")\n",
    "client = openai.Client(api_key=\"sk-...\")\n",
    "prompt = \"\"\"\n",
    "I have a topic that contains the following documents:\n",
    "[DOCUMENTS]\n",
    "\n",
    "Based on the information above, extract a short but highly descriptive topic label of at most 5 words. Make sure it is in the following format:\n",
    "topic: <topic label>\n",
    "\"\"\"\n",
    "representation_model = OpenAI(client, model=\"gpt-4o-mini\", chat=True, prompt = prompt)\n",
    "topic_model_gpt = BERTopic(representation_model=representation_model, calculate_probabilities= True)\n",
    "topics, probs = topic_model_gpt.fit_transform(mind_data_abstract)"
   ]
  },
  {
   "cell_type": "code",
   "execution_count": 27,
   "id": "cd3a76c4-acc2-44fb-b027-0980a563c89c",
   "metadata": {},
   "outputs": [
    {
     "data": {
      "text/html": [
       "<div>\n",
       "<style scoped>\n",
       "    .dataframe tbody tr th:only-of-type {\n",
       "        vertical-align: middle;\n",
       "    }\n",
       "\n",
       "    .dataframe tbody tr th {\n",
       "        vertical-align: top;\n",
       "    }\n",
       "\n",
       "    .dataframe thead th {\n",
       "        text-align: right;\n",
       "    }\n",
       "</style>\n",
       "<table border=\"1\" class=\"dataframe\">\n",
       "  <thead>\n",
       "    <tr style=\"text-align: right;\">\n",
       "      <th></th>\n",
       "      <th>Topic</th>\n",
       "      <th>Count</th>\n",
       "      <th>Name</th>\n",
       "      <th>Representation</th>\n",
       "      <th>Representative_Docs</th>\n",
       "    </tr>\n",
       "  </thead>\n",
       "  <tbody>\n",
       "    <tr>\n",
       "      <th>0</th>\n",
       "      <td>0</td>\n",
       "      <td>93</td>\n",
       "      <td>0_Wildfire Battles and Evacuations</td>\n",
       "      <td>[Wildfire Battles and Evacuations]</td>\n",
       "      <td>['We Have 3 Sheep Left': California Rancher Su...</td>\n",
       "    </tr>\n",
       "    <tr>\n",
       "      <th>1</th>\n",
       "      <td>1</td>\n",
       "      <td>40</td>\n",
       "      <td>1_Hollywood Celebrities and Personal Struggles</td>\n",
       "      <td>[Hollywood Celebrities and Personal Struggles]</td>\n",
       "      <td>[Sex, Drugs and Ashton Kutcher: 10 Revelations...</td>\n",
       "    </tr>\n",
       "  </tbody>\n",
       "</table>\n",
       "</div>"
      ],
      "text/plain": [
       "   Topic  Count                                            Name  \\\n",
       "0      0     93              0_Wildfire Battles and Evacuations   \n",
       "1      1     40  1_Hollywood Celebrities and Personal Struggles   \n",
       "\n",
       "                                   Representation  \\\n",
       "0              [Wildfire Battles and Evacuations]   \n",
       "1  [Hollywood Celebrities and Personal Struggles]   \n",
       "\n",
       "                                 Representative_Docs  \n",
       "0  ['We Have 3 Sheep Left': California Rancher Su...  \n",
       "1  [Sex, Drugs and Ashton Kutcher: 10 Revelations...  "
      ]
     },
     "execution_count": 27,
     "metadata": {},
     "output_type": "execute_result"
    }
   ],
   "source": [
    "topic_model_gpt.get_topic_info()"
   ]
  },
  {
   "cell_type": "code",
   "execution_count": 28,
   "id": "1a7d70cb-628b-4702-ab6f-e6e4878d1ee0",
   "metadata": {},
   "outputs": [
    {
     "data": {
      "text/plain": [
       "array([2.67226897e-309, 1.00000000e+000])"
      ]
     },
     "execution_count": 28,
     "metadata": {},
     "output_type": "execute_result"
    }
   ],
   "source": [
    "probs[0]"
   ]
  },
  {
   "cell_type": "code",
   "execution_count": null,
   "id": "dfc3e2f8-ae7c-4718-8d03-74d2e4070afc",
   "metadata": {},
   "outputs": [],
   "source": []
  }
 ],
 "metadata": {
  "kernelspec": {
   "display_name": "Python 3 (ipykernel)",
   "language": "python",
   "name": "python3"
  },
  "language_info": {
   "codemirror_mode": {
    "name": "ipython",
    "version": 3
   },
   "file_extension": ".py",
   "mimetype": "text/x-python",
   "name": "python",
   "nbconvert_exporter": "python",
   "pygments_lexer": "ipython3",
   "version": "3.11.6"
  }
 },
 "nbformat": 4,
 "nbformat_minor": 5
}
